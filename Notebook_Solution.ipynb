{
 "cells": [
  {
   "cell_type": "markdown",
   "metadata": {},
   "source": [
    "# Solution for the questions in [Pratical_Session_U_nets.ipynb](https://github.com/XinjianOUYANG/UNet-ST7/blob/1ddf9aa40a8992a5cfcf31701ad4c45c935e00bf/Pratical_Session_U_Nets.ipynb)"
   ]
  },
  {
   "attachments": {},
   "cell_type": "markdown",
   "metadata": {},
   "source": [
    "### Question 1:\n",
    "In the architecture of U-net, the usual contracting network(which is often used in CNN) is suplemented by an expansive path(the upsampling part).What's the role of the expansive path?\n"
   ]
  },
  {
   "cell_type": "markdown",
   "metadata": {},
   "source": [
    "**Solution**:\n",
    "\n",
    "    The main idea of U-net is to supplement a usual contracting network by successive layers, where pooling operators are replaced by upsampling operators. Hence, these layers increase the resolution of the output. In order to localize, high resolution features from the contracting path are combined with the upsampled output. A successive convolution layer can then learn to assemble a more precise output based on this information.\n",
    "\n",
    "    In the upsampling part, there are a large number of feature channels, which allow the network to propagate context information to higher resolution layers. As a consequence, the expansive path is more or less symmetric to the contracting path, and yields a u-shaped architecture. \n",
    "\n",
    "For more details,please refer to [paper](https://drive.google.com/file/d/1jFv6IYxlAyLdJM529fdxeLJY-rdfinhm/view?usp=sharing) *page 2-3*."
   ]
  },
  {
   "cell_type": "markdown",
   "metadata": {},
   "source": [
    "\n",
    "### Question 2:\n",
    "Why does U-Nets method work especially well in medical image segmentation compared to the usual CNNs? \n"
   ]
  },
  {
   "cell_type": "markdown",
   "metadata": {},
   "source": [
    "**Solution**:\n",
    "\n"
   ]
  }
 ],
 "metadata": {
  "kernelspec": {
   "display_name": "Python 3",
   "language": "python",
   "name": "python3"
  },
  "language_info": {
   "codemirror_mode": {
    "name": "ipython",
    "version": 3
   },
   "file_extension": ".py",
   "mimetype": "text/x-python",
   "name": "python",
   "nbconvert_exporter": "python",
   "pygments_lexer": "ipython3",
   "version": "3.8.8"
  }
 },
 "nbformat": 4,
 "nbformat_minor": 2
}
