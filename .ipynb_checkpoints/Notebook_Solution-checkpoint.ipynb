{
 "cells": [
  {
   "cell_type": "markdown",
   "metadata": {},
   "source": [
    "# Solution for the questions in [Pratical_Session_U_nets.ipynb](https://github.com/XinjianOUYANG/UNet-ST7/blob/1ddf9aa40a8992a5cfcf31701ad4c45c935e00bf/Pratical_Session_U_Nets.ipynb)"
   ]
  },
  {
   "cell_type": "markdown",
   "metadata": {},
   "source": [
    "### Question 1:\n",
    "In the architecture of U-net, the usual contracting network(which is often used in CNN) is suplemented by an expansive path(the upsampling part).What's the role of the expansive path?\n"
   ]
  },
  {
   "cell_type": "markdown",
   "metadata": {},
   "source": [
    "**Solution**:\n",
    "\n",
    "    The main idea of U-net is to supplement a usual contracting network by successive layers, where pooling operators are replaced by upsampling operators. Hence, these layers increase the resolution of the output. In order to localize, high resolution features from the contracting path are combined with the upsampled output. A successive convolution layer can then learn to assemble a more precise output based on this information.\n",
    "\n",
    "    In the upsampling part, there are a large number of feature channels, which allow the network to propagate context information to higher resolution layers. As a consequence, the expansive path is more or less symmetric to the contracting path, and yields a u-shaped architecture. \n",
    "\n",
    "For more details,please refer to [paper](https://drive.google.com/file/d/1jFv6IYxlAyLdJM529fdxeLJY-rdfinhm/view?usp=sharing) *page 2-3*."
   ]
  },
  {
   "cell_type": "markdown",
   "metadata": {},
   "source": [
    "\n",
    "### Question 2:\n",
    "What's the role of the skip connections(**the gray arrows** in the architecture) in each stage of U-net? \n"
   ]
  },
  {
   "cell_type": "markdown",
   "metadata": {},
   "source": [
    "**Solution**:\n",
    "    The skip connection, which is the gray arrow, is the copy and crop operation at each stage. \n",
    "    It compensates the loss of border pixels in every convolution.\n",
    "\n",
    "    The network does not have any fully connected layers and only uses the valid part of each convolution, i.e., the segmentation map only contains the pixels, for which the full context is available in the input image. This strategy allows the seamless segmentation of arbitrarily large images by an overlap-tile strategy (see Figure below). To predict the pixels in the border region of the image, the missing context is extrapolated by mirroring the input image through **skip connection**. This tiling strategy is important to apply the network to large images, since\n",
    "    otherwise the resolution would be limited by the GPU memory.\n",
    "\n",
    "For more details,please refer to [paper](https://drive.google.com/file/d/1jFv6IYxlAyLdJM529fdxeLJY-rdfinhm/view?usp=sharing) *page 3*."
   ]
  },
  {
   "cell_type": "markdown",
   "metadata": {},
   "source": [
    "![tiling strategy](skip_connection.jpg)"
   ]
  },
  {
   "cell_type": "markdown",
   "metadata": {},
   "source": [
    "### Question 3:\n",
    "Complete the code above (two parts):"
   ]
  },
  {
   "cell_type": "code",
   "execution_count": null,
   "metadata": {},
   "outputs": [],
   "source": [
    "#contracting path\n",
    "c3 = conv2d_block(p2, n_filters=n_filters * 4, kernel_size=3, batchnorm=batchnorm, padding=padding)\n",
    "p3 = MaxPooling2D((2, 2))(c3)\n",
    "p3 = Dropout(dropout)(p3)"
   ]
  },
  {
   "cell_type": "code",
   "execution_count": null,
   "metadata": {},
   "outputs": [],
   "source": [
    "#expanding path\n",
    "u7 = Conv2DTranspose(n_filters * 4, (3, 3), strides=(2, 2), padding='same')(c6)\n",
    "u7 = concatenate([u7, c3])\n",
    "u7 = Dropout(dropout)(u7)\n",
    "c7 = conv2d_block(u7, n_filters=n_filters * 4, kernel_size=3, batchnorm=batchnorm, padding=padding)"
   ]
  }
 ],
 "metadata": {
  "kernelspec": {
   "display_name": "Python 3",
   "language": "python",
   "name": "python3"
  },
  "language_info": {
   "codemirror_mode": {
    "name": "ipython",
    "version": 3
   },
   "file_extension": ".py",
   "mimetype": "text/x-python",
   "name": "python",
   "nbconvert_exporter": "python",
   "pygments_lexer": "ipython3",
   "version": "3.8.8"
  }
 },
 "nbformat": 4,
 "nbformat_minor": 2
}
